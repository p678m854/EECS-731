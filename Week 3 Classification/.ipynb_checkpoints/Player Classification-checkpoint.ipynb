{
 "cells": [
  {
   "cell_type": "markdown",
   "metadata": {},
   "source": [
    "# To be or not to be\n",
    "## General Information\n",
    "    Author: Patrick McNamee\n",
    "    Date: September 28 2019\n",
    "## Description\n",
    "This note book takes in all the works of Shakespear from a csv file and then makes a couple classifiers to estimate player from a given line."
   ]
  },
  {
   "cell_type": "markdown",
   "metadata": {},
   "source": [
    "## Data Exploration\n",
    "First lets import the data and then see what the data looks like."
   ]
  },
  {
   "cell_type": "code",
   "execution_count": 1,
   "metadata": {},
   "outputs": [
    {
     "data": {
      "text/html": [
       "<div>\n",
       "<style scoped>\n",
       "    .dataframe tbody tr th:only-of-type {\n",
       "        vertical-align: middle;\n",
       "    }\n",
       "\n",
       "    .dataframe tbody tr th {\n",
       "        vertical-align: top;\n",
       "    }\n",
       "\n",
       "    .dataframe thead th {\n",
       "        text-align: right;\n",
       "    }\n",
       "</style>\n",
       "<table border=\"1\" class=\"dataframe\">\n",
       "  <thead>\n",
       "    <tr style=\"text-align: right;\">\n",
       "      <th></th>\n",
       "      <th>Dataline</th>\n",
       "      <th>Play</th>\n",
       "      <th>PlayerLinenumber</th>\n",
       "      <th>ActSceneLine</th>\n",
       "      <th>Player</th>\n",
       "      <th>PlayerLine</th>\n",
       "    </tr>\n",
       "  </thead>\n",
       "  <tbody>\n",
       "    <tr>\n",
       "      <th>0</th>\n",
       "      <td>1</td>\n",
       "      <td>Henry IV</td>\n",
       "      <td>NaN</td>\n",
       "      <td>NaN</td>\n",
       "      <td>NaN</td>\n",
       "      <td>ACT I</td>\n",
       "    </tr>\n",
       "    <tr>\n",
       "      <th>1</th>\n",
       "      <td>2</td>\n",
       "      <td>Henry IV</td>\n",
       "      <td>NaN</td>\n",
       "      <td>NaN</td>\n",
       "      <td>NaN</td>\n",
       "      <td>SCENE I. London. The palace.</td>\n",
       "    </tr>\n",
       "    <tr>\n",
       "      <th>2</th>\n",
       "      <td>3</td>\n",
       "      <td>Henry IV</td>\n",
       "      <td>NaN</td>\n",
       "      <td>NaN</td>\n",
       "      <td>NaN</td>\n",
       "      <td>Enter KING HENRY, LORD JOHN OF LANCASTER, the ...</td>\n",
       "    </tr>\n",
       "    <tr>\n",
       "      <th>3</th>\n",
       "      <td>4</td>\n",
       "      <td>Henry IV</td>\n",
       "      <td>1.0</td>\n",
       "      <td>1.1.1</td>\n",
       "      <td>KING HENRY IV</td>\n",
       "      <td>So shaken as we are, so wan with care,</td>\n",
       "    </tr>\n",
       "    <tr>\n",
       "      <th>4</th>\n",
       "      <td>5</td>\n",
       "      <td>Henry IV</td>\n",
       "      <td>1.0</td>\n",
       "      <td>1.1.2</td>\n",
       "      <td>KING HENRY IV</td>\n",
       "      <td>Find we a time for frighted peace to pant,</td>\n",
       "    </tr>\n",
       "  </tbody>\n",
       "</table>\n",
       "</div>"
      ],
      "text/plain": [
       "   Dataline      Play  PlayerLinenumber ActSceneLine         Player  \\\n",
       "0         1  Henry IV               NaN          NaN            NaN   \n",
       "1         2  Henry IV               NaN          NaN            NaN   \n",
       "2         3  Henry IV               NaN          NaN            NaN   \n",
       "3         4  Henry IV               1.0        1.1.1  KING HENRY IV   \n",
       "4         5  Henry IV               1.0        1.1.2  KING HENRY IV   \n",
       "\n",
       "                                          PlayerLine  \n",
       "0                                              ACT I  \n",
       "1                       SCENE I. London. The palace.  \n",
       "2  Enter KING HENRY, LORD JOHN OF LANCASTER, the ...  \n",
       "3             So shaken as we are, so wan with care,  \n",
       "4         Find we a time for frighted peace to pant,  "
      ]
     },
     "execution_count": 1,
     "metadata": {},
     "output_type": "execute_result"
    }
   ],
   "source": [
    "import numpy as np\n",
    "import pandas as pd\n",
    "\n",
    "shakespeare = pd.read_csv('./data/Shakespeare_data.csv')\n",
    "shakespeare.head()"
   ]
  },
  {
   "cell_type": "markdown",
   "metadata": {},
   "source": [
    "There appears to be quite of bit of NaN values for the Player column during exposition which we do not necessarily care about."
   ]
  },
  {
   "cell_type": "code",
   "execution_count": 2,
   "metadata": {},
   "outputs": [
    {
     "name": "stdout",
     "output_type": "stream",
     "text": [
      "   Dataline      Play  PlayerLinenumber ActSceneLine         Player  \\\n",
      "3         4  Henry IV               1.0        1.1.1  KING HENRY IV   \n",
      "4         5  Henry IV               1.0        1.1.2  KING HENRY IV   \n",
      "5         6  Henry IV               1.0        1.1.3  KING HENRY IV   \n",
      "6         7  Henry IV               1.0        1.1.4  KING HENRY IV   \n",
      "7         8  Henry IV               1.0        1.1.5  KING HENRY IV   \n",
      "\n",
      "                                       PlayerLine  \n",
      "3          So shaken as we are, so wan with care,  \n",
      "4      Find we a time for frighted peace to pant,  \n",
      "5  And breathe short-winded accents of new broils  \n",
      "6         To be commenced in strands afar remote.  \n",
      "7       No more the thirsty entrance of this soil  \n",
      "        Dataline            Play  PlayerLinenumber ActSceneLine   Player  \\\n",
      "111391    111392  A Winters Tale              38.0      5.3.180  LEONTES   \n",
      "111392    111393  A Winters Tale              38.0      5.3.181  LEONTES   \n",
      "111393    111394  A Winters Tale              38.0      5.3.182  LEONTES   \n",
      "111394    111395  A Winters Tale              38.0      5.3.183  LEONTES   \n",
      "111395    111396  A Winters Tale              38.0          NaN  LEONTES   \n",
      "\n",
      "                                            PlayerLine  \n",
      "111391      Lead us from hence, where we may leisurely  \n",
      "111392           Each one demand an answer to his part  \n",
      "111393  Perform'd in this wide gap of time since first  \n",
      "111394          We were dissever'd: hastily lead away.  \n",
      "111395                                          Exeunt  \n"
     ]
    }
   ],
   "source": [
    "shakespeare = shakespeare[shakespeare['Player'].notnull()]\n",
    "print(shakespeare.head())\n",
    "print(shakespeare.tail())"
   ]
  },
  {
   "cell_type": "markdown",
   "metadata": {},
   "source": [
    "There is still some NaN values due to player exiting and entering and it appears to be  in ActSceneLine and so we will also filter out these rows. Additionally we will update the index by resetting it."
   ]
  },
  {
   "cell_type": "code",
   "execution_count": 3,
   "metadata": {},
   "outputs": [],
   "source": [
    "shakespeare = shakespeare[shakespeare['ActSceneLine'].notnull()]\n",
    "\n",
    "#reset index\n",
    "shakespeare.reset_index(drop=True, inplace=True)"
   ]
  },
  {
   "cell_type": "markdown",
   "metadata": {},
   "source": [
    "## Feature Engineering\n",
    "With the data now cleaned, we will start adding in feature. The features that we will add in are:\n",
    "\n",
    "1. Number of words in a line\n",
    "2. Play Act\n",
    "3. Play Scene\n",
    "4. Play Line\n",
    "5. Continuation Line (Bool)\n",
    "\n",
    "I will also add in a column of integers for player ID's. Ideally this would be better as a one-hot-encoding but since there over 9000 unique players, I will not do this. One-hot-encodings would be better for neural networks or other things with vector encoding but I do not want to use this much memory space on my laptop."
   ]
  },
  {
   "cell_type": "code",
   "execution_count": 29,
   "metadata": {},
   "outputs": [],
   "source": [
    "#Generate the columns\n",
    "shakespeare['NumWords'] = 0\n",
    "shakespeare['Act'] = 0\n",
    "shakespeare['Scene'] = 0\n",
    "shakespeare['Line'] = 0\n",
    "shakespeare['Continuation'] = False\n",
    "\n",
    "#Numerical IDs for models\n",
    "shakespeare['PlayID'] = 0\n",
    "shakespeare['PlayerID'] = 0\n",
    "\n",
    "#Iterate through rows to populate columns\n",
    "player_list = shakespeare.Player.unique()\n",
    "play_list = shakespeare.Play.unique()\n",
    "for i in shakespeare.index:\n",
    "    shakespeare.loc[i, 'PlayerID'] = np.where(player_list == shakespeare.loc[i, 'Player'])[0]\n",
    "    shakespeare.loc[i, 'PlayID'] = np.where(play_list == shakespeare.loc[i, 'Play'])[0]\n",
    "    #creating features\n",
    "    shakespeare.loc[i, 'NumWords'] = len(shakespeare.loc[i, 'PlayerLine'].split(' '))\n",
    "    asl = shakespeare.loc[i, 'ActSceneLine'].split('.')\n",
    "    shakespeare.loc[i, 'Act'] = int(asl[0])\n",
    "    shakespeare.loc[i, 'Scene'] = int(asl[1])\n",
    "    shakespeare.loc[i, 'Line'] = int(asl[2])\n",
    "    \n",
    "    if i != 0:\n",
    "        if shakespeare.loc[i, 'Player'] == shakespeare.loc[i-1, 'Player']:\n",
    "            shakespeare.loc[i, 'Continuation'] = True\n",
    "    \n",
    "\n",
    "shakespeare.to_csv(r'./data/shakespeare_modded.csv')"
   ]
  },
  {
   "cell_type": "markdown",
   "metadata": {},
   "source": [
    "\n",
    "## Model building\n",
    "Lets start building a couple models for analysis. First one is just to be a random guesser for a base line performance."
   ]
  },
  {
   "cell_type": "code",
   "execution_count": 30,
   "metadata": {},
   "outputs": [],
   "source": [
    "import pickle #saving models\n",
    "from sklearn.model_selection import train_test_split # Train/Test split\n",
    "from sklearn import metrics                          # Meterics\n",
    "\n",
    "shakespeare = pd.read_csv('./data/shakespeare_modded.csv') #Updated csv\n",
    "\n",
    "X = shakespeare[['PlayID', 'Act', 'Scene', 'Line', 'PlayerLinenumber', 'NumWords']]\n",
    "y = shakespeare['PlayerID']\n",
    "X_train, X_test, y_train, y_test = train_test_split(X, y, test_size=0.3, random_state=1)"
   ]
  },
  {
   "cell_type": "markdown",
   "metadata": {},
   "source": [
    "### Random Guesser\n",
    "The idea is simple we will generate a function that has a list of the unique players and a corresponding list of frequency. It will then use the relative player frequencies and a randomly generated number [0 , 1) so that will output a guessed player."
   ]
  },
  {
   "cell_type": "code",
   "execution_count": 19,
   "metadata": {},
   "outputs": [
    {
     "name": "stdout",
     "output_type": "stream",
     "text": [
      "Player counts:\n",
      "KING HENRY IV 341.0\n",
      "WESTMORELAND 79.0\n",
      "FALSTAFF 1053.0\n",
      "PRINCE HENRY 584.0\n",
      "POINS 80.0\n",
      "EARL OF WORCESTER 188.0\n",
      "NORTHUMBERLAND 198.0\n",
      "HOTSPUR 562.0\n",
      "SIR WALTER BLUNT 41.0\n",
      "First Carrier 20.0\n",
      "\n",
      "Normalized Player Counts\n",
      "KING HENRY IV 0.003242924528301887\n",
      "WESTMORELAND 0.0007512933657942788\n",
      "FALSTAFF 0.010014074863055387\n",
      "PRINCE HENRY 0.005553864881314668\n",
      "POINS 0.0007608034083992696\n",
      "EARL OF WORCESTER 0.0017878880097382836\n",
      "NORTHUMBERLAND 0.0018829884357881924\n",
      "HOTSPUR 0.0053446439440048695\n",
      "SIR WALTER BLUNT 0.0003899117468046257\n",
      "First Carrier 0.0001902008520998174\n"
     ]
    }
   ],
   "source": [
    "player_list = shakespeare.Player.unique()\n",
    "player_count = np.zeros((player_list.shape[0],))\n",
    "\n",
    "#getting the player counts\n",
    "for i, player in enumerate(player_list):\n",
    "    player_count[i] = (shakespeare['Player'] == player).sum()\n",
    "print('Player counts:')\n",
    "for player, count in zip(player_list[:10], player_count[:10]):\n",
    "    print(player, count)\n",
    "\n",
    "#normalizing\n",
    "total = sum(player_count)\n",
    "player_count = player_count/total\n",
    "print('\\nNormalized Player Counts')\n",
    "for player, count in zip(player_list[:10], player_count[:10]):\n",
    "    print(player, count)\n"
   ]
  },
  {
   "cell_type": "code",
   "execution_count": 25,
   "metadata": {},
   "outputs": [
    {
     "name": "stdout",
     "output_type": "stream",
     "text": [
      "Testing random guesser:\n",
      "Player:\t First Carrier Guessed:\t ['KING EDWARD IV']\n",
      "Player:\t First Carrier Guessed:\t ['LADY GREY']\n",
      "Player:\t First Carrier Guessed:\t ['TOUCHSTONE']\n",
      "Player:\t First Carrier Guessed:\t ['PRINCE HENRY']\n",
      "Player:\t First Carrier Guessed:\t ['SLENDER']\n",
      "Player:\t First Carrier Guessed:\t ['HAMLET']\n",
      "Player:\t First Carrier Guessed:\t ['PANDARUS']\n",
      "Player:\t First Carrier Guessed:\t ['DERBY']\n",
      "Player:\t First Carrier Guessed:\t ['ARVIRAGUS']\n",
      "Player:\t First Carrier Guessed:\t ['Old Lady']\n",
      "Random Guesser Accuracy: 0.003677169847207253\n"
     ]
    }
   ],
   "source": [
    "import random\n",
    "class randomGuesser:\n",
    "    def __init__(self, player, rel_count):\n",
    "        self.player_list = player\n",
    "        self.prop = rel_count\n",
    "        \n",
    "    def guess(self):\n",
    "        r = random.random()\n",
    "        total = 0\n",
    "        for i, player in enumerate(self.player_list):\n",
    "            total = total + self.prop[i]\n",
    "            if r <= total:\n",
    "                return player\n",
    "            \n",
    "#Testing\n",
    "print('Testing random guesser:')\n",
    "random_player = randomGuesser(player_list, player_count)\n",
    "y_pred = []\n",
    "for i in range(len(y_test)):\n",
    "    y_pred.append(np.where(random_player.guess() == player_list)[0])\n",
    "    if i < 10:\n",
    "        print(\"Player:\\t\",player,\"Guessed:\\t\", player_list[y_pred[-1]])\n",
    "print(\"Random Guesser Accuracy:\",metrics.accuracy_score(y_test, y_pred))\n",
    "pickle.dump(random_player, open(\"./models/random_guesser.p\", 'wb+'))"
   ]
  },
  {
   "cell_type": "markdown",
   "metadata": {},
   "source": [
    "### Decision Tree\n",
    "One of the most model simplistic model for this type of classification is simply a decision tree."
   ]
  },
  {
   "cell_type": "code",
   "execution_count": 31,
   "metadata": {},
   "outputs": [
    {
     "name": "stdout",
     "output_type": "stream",
     "text": [
      "Decision Tree Classifier Accuracy: 0.7300767133709504\n"
     ]
    }
   ],
   "source": [
    "#import necessay libraries\n",
    "from sklearn.tree import DecisionTreeClassifier      # Decision Tree Classifier\n",
    "from sklearn.model_selection import train_test_split # Train/Test split\n",
    "from sklearn import metrics                          # Meterics\n",
    "\n",
    "clf = DecisionTreeClassifier()\n",
    "\n",
    "# Train Decision Tree Classifer\n",
    "clf = clf.fit(X_train,y_train)\n",
    "#Predict the response for test dataset\n",
    "y_pred = clf.predict(X_test)\n",
    "#Evaluate model\n",
    "print(\"Decision Tree Classifier Accuracy:\",metrics.accuracy_score(y_test, y_pred))\n",
    "pickle.dump(clf, open(\"./models/decision_tree.p\", 'wb+'))"
   ]
  },
  {
   "cell_type": "markdown",
   "metadata": {},
   "source": [
    "### Random Forest\n",
    "Can you see the forest for the trees? If one tree was good then surely more is better."
   ]
  },
  {
   "cell_type": "code",
   "execution_count": 39,
   "metadata": {},
   "outputs": [
    {
     "name": "stderr",
     "output_type": "stream",
     "text": [
      "C:\\Users\\Patrick\\Anaconda3\\lib\\site-packages\\sklearn\\ensemble\\forest.py:246: FutureWarning: The default value of n_estimators will change from 10 in version 0.20 to 100 in 0.22.\n",
      "  \"10 in version 0.20 to 100 in 0.22.\", FutureWarning)\n"
     ]
    },
    {
     "name": "stdout",
     "output_type": "stream",
     "text": [
      "Random Forest Classifier Accuracy: 0.7240854624992075\n"
     ]
    }
   ],
   "source": [
    "from sklearn.ensemble import RandomForestClassifier\n",
    "forest = RandomForestClassifier() #Pretty aribitrary number chosen\n",
    "forest.fit(X_train, y_train)\n",
    "y_pred = forest.predict(X_test)\n",
    "#Evaluate model\n",
    "print(\"Random Forest Classifier Accuracy:\",metrics.accuracy_score(y_test, y_pred))\n",
    "pickle.dump(clf, open(\"./models/decision_forest.p\", 'wb+'))"
   ]
  },
  {
   "cell_type": "code",
   "execution_count": null,
   "metadata": {},
   "outputs": [],
   "source": []
  }
 ],
 "metadata": {
  "kernelspec": {
   "display_name": "Python 3",
   "language": "python",
   "name": "python3"
  },
  "language_info": {
   "codemirror_mode": {
    "name": "ipython",
    "version": 3
   },
   "file_extension": ".py",
   "mimetype": "text/x-python",
   "name": "python",
   "nbconvert_exporter": "python",
   "pygments_lexer": "ipython3",
   "version": "3.7.1"
  }
 },
 "nbformat": 4,
 "nbformat_minor": 2
}
