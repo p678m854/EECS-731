{
 "cells": [
  {
   "cell_type": "markdown",
   "metadata": {},
   "source": [
    "# To be or not to be\n",
    "## General Information\n",
    "    Author: Patrick McNamee\n",
    "    Date: September 28 2019\n",
    "## Description\n",
    "This note book takes in all the works of Shakespear from a csv file and then makes a couple classifiers to estimate player from a given line."
   ]
  },
  {
   "cell_type": "markdown",
   "metadata": {},
   "source": [
    "## Data Exploration\n",
    "First lets import the data and then see what the data looks like."
   ]
  },
  {
   "cell_type": "code",
   "execution_count": 1,
   "metadata": {},
   "outputs": [
    {
     "data": {
      "text/html": [
       "<div>\n",
       "<style scoped>\n",
       "    .dataframe tbody tr th:only-of-type {\n",
       "        vertical-align: middle;\n",
       "    }\n",
       "\n",
       "    .dataframe tbody tr th {\n",
       "        vertical-align: top;\n",
       "    }\n",
       "\n",
       "    .dataframe thead th {\n",
       "        text-align: right;\n",
       "    }\n",
       "</style>\n",
       "<table border=\"1\" class=\"dataframe\">\n",
       "  <thead>\n",
       "    <tr style=\"text-align: right;\">\n",
       "      <th></th>\n",
       "      <th>Dataline</th>\n",
       "      <th>Play</th>\n",
       "      <th>PlayerLinenumber</th>\n",
       "      <th>ActSceneLine</th>\n",
       "      <th>Player</th>\n",
       "      <th>PlayerLine</th>\n",
       "    </tr>\n",
       "  </thead>\n",
       "  <tbody>\n",
       "    <tr>\n",
       "      <th>0</th>\n",
       "      <td>1</td>\n",
       "      <td>Henry IV</td>\n",
       "      <td>NaN</td>\n",
       "      <td>NaN</td>\n",
       "      <td>NaN</td>\n",
       "      <td>ACT I</td>\n",
       "    </tr>\n",
       "    <tr>\n",
       "      <th>1</th>\n",
       "      <td>2</td>\n",
       "      <td>Henry IV</td>\n",
       "      <td>NaN</td>\n",
       "      <td>NaN</td>\n",
       "      <td>NaN</td>\n",
       "      <td>SCENE I. London. The palace.</td>\n",
       "    </tr>\n",
       "    <tr>\n",
       "      <th>2</th>\n",
       "      <td>3</td>\n",
       "      <td>Henry IV</td>\n",
       "      <td>NaN</td>\n",
       "      <td>NaN</td>\n",
       "      <td>NaN</td>\n",
       "      <td>Enter KING HENRY, LORD JOHN OF LANCASTER, the ...</td>\n",
       "    </tr>\n",
       "    <tr>\n",
       "      <th>3</th>\n",
       "      <td>4</td>\n",
       "      <td>Henry IV</td>\n",
       "      <td>1.0</td>\n",
       "      <td>1.1.1</td>\n",
       "      <td>KING HENRY IV</td>\n",
       "      <td>So shaken as we are, so wan with care,</td>\n",
       "    </tr>\n",
       "    <tr>\n",
       "      <th>4</th>\n",
       "      <td>5</td>\n",
       "      <td>Henry IV</td>\n",
       "      <td>1.0</td>\n",
       "      <td>1.1.2</td>\n",
       "      <td>KING HENRY IV</td>\n",
       "      <td>Find we a time for frighted peace to pant,</td>\n",
       "    </tr>\n",
       "  </tbody>\n",
       "</table>\n",
       "</div>"
      ],
      "text/plain": [
       "   Dataline      Play  PlayerLinenumber ActSceneLine         Player  \\\n",
       "0         1  Henry IV               NaN          NaN            NaN   \n",
       "1         2  Henry IV               NaN          NaN            NaN   \n",
       "2         3  Henry IV               NaN          NaN            NaN   \n",
       "3         4  Henry IV               1.0        1.1.1  KING HENRY IV   \n",
       "4         5  Henry IV               1.0        1.1.2  KING HENRY IV   \n",
       "\n",
       "                                          PlayerLine  \n",
       "0                                              ACT I  \n",
       "1                       SCENE I. London. The palace.  \n",
       "2  Enter KING HENRY, LORD JOHN OF LANCASTER, the ...  \n",
       "3             So shaken as we are, so wan with care,  \n",
       "4         Find we a time for frighted peace to pant,  "
      ]
     },
     "execution_count": 1,
     "metadata": {},
     "output_type": "execute_result"
    }
   ],
   "source": [
    "import numpy as np\n",
    "import pandas as pd\n",
    "\n",
    "shakespeare = pd.read_csv('./data/Shakespeare_data.csv')\n",
    "shakespeare.head()"
   ]
  },
  {
   "cell_type": "markdown",
   "metadata": {},
   "source": [
    "There appears to be quite of bit of NaN values for the Player column during exposition which we do not necessarily care about."
   ]
  },
  {
   "cell_type": "code",
   "execution_count": 2,
   "metadata": {},
   "outputs": [
    {
     "name": "stdout",
     "output_type": "stream",
     "text": [
      "   Dataline      Play  PlayerLinenumber ActSceneLine         Player  \\\n",
      "3         4  Henry IV               1.0        1.1.1  KING HENRY IV   \n",
      "4         5  Henry IV               1.0        1.1.2  KING HENRY IV   \n",
      "5         6  Henry IV               1.0        1.1.3  KING HENRY IV   \n",
      "6         7  Henry IV               1.0        1.1.4  KING HENRY IV   \n",
      "7         8  Henry IV               1.0        1.1.5  KING HENRY IV   \n",
      "\n",
      "                                       PlayerLine  \n",
      "3          So shaken as we are, so wan with care,  \n",
      "4      Find we a time for frighted peace to pant,  \n",
      "5  And breathe short-winded accents of new broils  \n",
      "6         To be commenced in strands afar remote.  \n",
      "7       No more the thirsty entrance of this soil  \n",
      "        Dataline            Play  PlayerLinenumber ActSceneLine   Player  \\\n",
      "111391    111392  A Winters Tale              38.0      5.3.180  LEONTES   \n",
      "111392    111393  A Winters Tale              38.0      5.3.181  LEONTES   \n",
      "111393    111394  A Winters Tale              38.0      5.3.182  LEONTES   \n",
      "111394    111395  A Winters Tale              38.0      5.3.183  LEONTES   \n",
      "111395    111396  A Winters Tale              38.0          NaN  LEONTES   \n",
      "\n",
      "                                            PlayerLine  \n",
      "111391      Lead us from hence, where we may leisurely  \n",
      "111392           Each one demand an answer to his part  \n",
      "111393  Perform'd in this wide gap of time since first  \n",
      "111394          We were dissever'd: hastily lead away.  \n",
      "111395                                          Exeunt  \n"
     ]
    }
   ],
   "source": [
    "shakespeare = shakespeare[shakespeare['Player'].notnull()]\n",
    "print(shakespeare.head())\n",
    "print(shakespeare.tail())"
   ]
  },
  {
   "cell_type": "markdown",
   "metadata": {},
   "source": [
    "There is still some NaN values due to player exiting and entering and it appears to be  in ActSceneLine and so we will also filter out these rows"
   ]
  },
  {
   "cell_type": "code",
   "execution_count": 3,
   "metadata": {},
   "outputs": [],
   "source": [
    "shakespeare = shakespeare[shakespeare['ActSceneLine'].notnull()]\n",
    "\n",
    "#reset index\n",
    "shakespeare.reset_index(drop=True, inplace=True)"
   ]
  },
  {
   "cell_type": "markdown",
   "metadata": {},
   "source": [
    "## Feature Engineering\n",
    "With the data now cleaned, we will start adding in feature. The features that we will add in are:\n",
    "\n",
    "1. Number of words in a line\n",
    "2. Play Act\n",
    "3. Play Scene\n",
    "4. Play Line\n",
    "5. Continuation Line (Bool)"
   ]
  },
  {
   "cell_type": "code",
   "execution_count": 4,
   "metadata": {},
   "outputs": [
    {
     "data": {
      "text/html": [
       "<div>\n",
       "<style scoped>\n",
       "    .dataframe tbody tr th:only-of-type {\n",
       "        vertical-align: middle;\n",
       "    }\n",
       "\n",
       "    .dataframe tbody tr th {\n",
       "        vertical-align: top;\n",
       "    }\n",
       "\n",
       "    .dataframe thead th {\n",
       "        text-align: right;\n",
       "    }\n",
       "</style>\n",
       "<table border=\"1\" class=\"dataframe\">\n",
       "  <thead>\n",
       "    <tr style=\"text-align: right;\">\n",
       "      <th></th>\n",
       "      <th>Dataline</th>\n",
       "      <th>Play</th>\n",
       "      <th>PlayerLinenumber</th>\n",
       "      <th>ActSceneLine</th>\n",
       "      <th>Player</th>\n",
       "      <th>PlayerLine</th>\n",
       "      <th>NumWords</th>\n",
       "      <th>Act</th>\n",
       "      <th>Scene</th>\n",
       "      <th>Line</th>\n",
       "      <th>Continuation</th>\n",
       "    </tr>\n",
       "  </thead>\n",
       "  <tbody>\n",
       "    <tr>\n",
       "      <th>0</th>\n",
       "      <td>4</td>\n",
       "      <td>Henry IV</td>\n",
       "      <td>1.0</td>\n",
       "      <td>1.1.1</td>\n",
       "      <td>KING HENRY IV</td>\n",
       "      <td>So shaken as we are, so wan with care,</td>\n",
       "      <td>9</td>\n",
       "      <td>1</td>\n",
       "      <td>1</td>\n",
       "      <td>1</td>\n",
       "      <td>False</td>\n",
       "    </tr>\n",
       "    <tr>\n",
       "      <th>1</th>\n",
       "      <td>5</td>\n",
       "      <td>Henry IV</td>\n",
       "      <td>1.0</td>\n",
       "      <td>1.1.2</td>\n",
       "      <td>KING HENRY IV</td>\n",
       "      <td>Find we a time for frighted peace to pant,</td>\n",
       "      <td>9</td>\n",
       "      <td>1</td>\n",
       "      <td>1</td>\n",
       "      <td>2</td>\n",
       "      <td>True</td>\n",
       "    </tr>\n",
       "    <tr>\n",
       "      <th>2</th>\n",
       "      <td>6</td>\n",
       "      <td>Henry IV</td>\n",
       "      <td>1.0</td>\n",
       "      <td>1.1.3</td>\n",
       "      <td>KING HENRY IV</td>\n",
       "      <td>And breathe short-winded accents of new broils</td>\n",
       "      <td>7</td>\n",
       "      <td>1</td>\n",
       "      <td>1</td>\n",
       "      <td>3</td>\n",
       "      <td>True</td>\n",
       "    </tr>\n",
       "    <tr>\n",
       "      <th>3</th>\n",
       "      <td>7</td>\n",
       "      <td>Henry IV</td>\n",
       "      <td>1.0</td>\n",
       "      <td>1.1.4</td>\n",
       "      <td>KING HENRY IV</td>\n",
       "      <td>To be commenced in strands afar remote.</td>\n",
       "      <td>7</td>\n",
       "      <td>1</td>\n",
       "      <td>1</td>\n",
       "      <td>4</td>\n",
       "      <td>True</td>\n",
       "    </tr>\n",
       "    <tr>\n",
       "      <th>4</th>\n",
       "      <td>8</td>\n",
       "      <td>Henry IV</td>\n",
       "      <td>1.0</td>\n",
       "      <td>1.1.5</td>\n",
       "      <td>KING HENRY IV</td>\n",
       "      <td>No more the thirsty entrance of this soil</td>\n",
       "      <td>8</td>\n",
       "      <td>1</td>\n",
       "      <td>1</td>\n",
       "      <td>5</td>\n",
       "      <td>True</td>\n",
       "    </tr>\n",
       "  </tbody>\n",
       "</table>\n",
       "</div>"
      ],
      "text/plain": [
       "   Dataline      Play  PlayerLinenumber ActSceneLine         Player  \\\n",
       "0         4  Henry IV               1.0        1.1.1  KING HENRY IV   \n",
       "1         5  Henry IV               1.0        1.1.2  KING HENRY IV   \n",
       "2         6  Henry IV               1.0        1.1.3  KING HENRY IV   \n",
       "3         7  Henry IV               1.0        1.1.4  KING HENRY IV   \n",
       "4         8  Henry IV               1.0        1.1.5  KING HENRY IV   \n",
       "\n",
       "                                       PlayerLine  NumWords  Act  Scene  Line  \\\n",
       "0          So shaken as we are, so wan with care,         9    1      1     1   \n",
       "1      Find we a time for frighted peace to pant,         9    1      1     2   \n",
       "2  And breathe short-winded accents of new broils         7    1      1     3   \n",
       "3         To be commenced in strands afar remote.         7    1      1     4   \n",
       "4       No more the thirsty entrance of this soil         8    1      1     5   \n",
       "\n",
       "   Continuation  \n",
       "0         False  \n",
       "1          True  \n",
       "2          True  \n",
       "3          True  \n",
       "4          True  "
      ]
     },
     "execution_count": 4,
     "metadata": {},
     "output_type": "execute_result"
    }
   ],
   "source": [
    "#Generate the columns\n",
    "shakespeare['NumWords'] = 0\n",
    "shakespeare['Act'] = 0\n",
    "shakespeare['Scene'] = 0\n",
    "shakespeare['Line'] = 0\n",
    "shakespeare['Continuation'] = False\n",
    "\n",
    "#Iterate through rows to populate columns\n",
    "\n",
    "for i in shakespeare.index:\n",
    "    shakespeare.loc[i, 'NumWords'] = len(shakespeare.loc[i, 'PlayerLine'].split(' '))\n",
    "    asl = shakespeare.loc[i, 'ActSceneLine'].split('.')\n",
    "    shakespeare.loc[i, 'Act'] = int(asl[0])\n",
    "    shakespeare.loc[i, 'Scene'] = int(asl[1])\n",
    "    shakespeare.loc[i, 'Line'] = int(asl[2])\n",
    "    \n",
    "    if i != 0:\n",
    "        if shakespeare.loc[i, 'Player'] == shakespeare.loc[i-1, 'Player']:\n",
    "            shakespeare.loc[i, 'Continuation'] = True\n",
    "    \n",
    "shakespeare.head()"
   ]
  },
  {
   "cell_type": "markdown",
   "metadata": {},
   "source": [
    "## Model building\n",
    "Lets start building a couple models for analysis. First one is just to be a random guesser for a base line performance."
   ]
  },
  {
   "cell_type": "code",
   "execution_count": null,
   "metadata": {},
   "outputs": [],
   "source": [
    "import pickles #saving models"
   ]
  },
  {
   "cell_type": "markdown",
   "metadata": {},
   "source": [
    "### Random Guesser\n",
    "The idea is simple we will generate a function that has a list of the unique players and a corresponding list of frequency. It will then use the relative player frequencies and a randomly generated number [0 , 1) so that will output a guessed player."
   ]
  },
  {
   "cell_type": "code",
   "execution_count": 5,
   "metadata": {},
   "outputs": [
    {
     "ename": "NameError",
     "evalue": "name 'playerlist' is not defined",
     "output_type": "error",
     "traceback": [
      "\u001b[1;31m---------------------------------------------------------------------------\u001b[0m",
      "\u001b[1;31mNameError\u001b[0m                                 Traceback (most recent call last)",
      "\u001b[1;32m<ipython-input-5-25f112339a34>\u001b[0m in \u001b[0;36m<module>\u001b[1;34m\u001b[0m\n\u001b[0;32m      1\u001b[0m \u001b[0mplayer_list\u001b[0m \u001b[1;33m=\u001b[0m \u001b[0mshakespeare\u001b[0m\u001b[1;33m.\u001b[0m\u001b[0mPlayer\u001b[0m\u001b[1;33m.\u001b[0m\u001b[0munique\u001b[0m\u001b[1;33m(\u001b[0m\u001b[1;33m)\u001b[0m\u001b[1;33m\u001b[0m\u001b[1;33m\u001b[0m\u001b[0m\n\u001b[1;32m----> 2\u001b[1;33m \u001b[0mplayer_count\u001b[0m \u001b[1;33m=\u001b[0m \u001b[0mnp\u001b[0m\u001b[1;33m.\u001b[0m\u001b[0mzeros\u001b[0m\u001b[1;33m(\u001b[0m\u001b[1;33m(\u001b[0m\u001b[0mplayerlist\u001b[0m\u001b[1;33m.\u001b[0m\u001b[0mshape\u001b[0m\u001b[1;33m[\u001b[0m\u001b[1;36m0\u001b[0m\u001b[1;33m]\u001b[0m\u001b[1;33m,\u001b[0m\u001b[1;33m)\u001b[0m\u001b[1;33m)\u001b[0m\u001b[1;33m\u001b[0m\u001b[1;33m\u001b[0m\u001b[0m\n\u001b[0m\u001b[0;32m      3\u001b[0m \u001b[1;33m\u001b[0m\u001b[0m\n\u001b[0;32m      4\u001b[0m \u001b[1;31m#getting the player counts\u001b[0m\u001b[1;33m\u001b[0m\u001b[1;33m\u001b[0m\u001b[1;33m\u001b[0m\u001b[0m\n\u001b[0;32m      5\u001b[0m \u001b[1;32mfor\u001b[0m \u001b[0mi\u001b[0m\u001b[1;33m,\u001b[0m \u001b[0mplayer\u001b[0m \u001b[1;32min\u001b[0m \u001b[0menumerate\u001b[0m\u001b[1;33m(\u001b[0m\u001b[0mplayer_list\u001b[0m\u001b[1;33m)\u001b[0m\u001b[1;33m:\u001b[0m\u001b[1;33m\u001b[0m\u001b[1;33m\u001b[0m\u001b[0m\n",
      "\u001b[1;31mNameError\u001b[0m: name 'playerlist' is not defined"
     ]
    }
   ],
   "source": [
    "player_list = shakespeare.Player.unique()\n",
    "player_count = np.zeros((playerlist.shape[0],))\n",
    "\n",
    "#getting the player counts\n",
    "for i, player in enumerate(player_list):\n",
    "    player_count[i] = (shakespeare['Player'] == player).sum()\n",
    "print('Player counts:')\n",
    "for player, count in zip(player_list[:10], player_count[:10]):\n",
    "    print(player, count)\n",
    "\n",
    "#normalizing\n",
    "total = sum(player_count)\n",
    "player_count = player_count/total\n",
    "print('\\nNormalized Player Counts')\n",
    "for player, count in zip(player_list[:10], player_count[:10]):\n",
    "    print(player, count)\n"
   ]
  },
  {
   "cell_type": "code",
   "execution_count": null,
   "metadata": {},
   "outputs": [],
   "source": [
    "import random\n",
    "class randomGuesser:\n",
    "    def __init__(self, player, rel_count):\n",
    "        player_and_count = zip(player, rel_count)\n",
    "        \n",
    "    def guess(self):\n",
    "        r = random.random()\n",
    "        player = random.shuffle(player_and_count)\n",
    "        total = 0\n",
    "        for player, count in player_and_count:\n",
    "            total = total + count\n",
    "            if r <= total:\n",
    "                return player\n",
    "            \n",
    "#Testing\n",
    "print('Testing random guesser:')\n",
    "min_index = 0\n",
    "max_index = shakespeare.index[-1]\n",
    "\"\"\"\n",
    "random_player = randomGuesser(player, player_count)\n",
    "for player in random.shuffle(players)[:10]:\n",
    "    print(\"Player:\\t\",player,\"Guessed:\\t\", random_player.guess())\n",
    "\"\"\"\n",
    "pickle.dump(random_player, open(\"./models/random_guesser.p\", 'wb+'))"
   ]
  },
  {
   "cell_type": "markdown",
   "metadata": {},
   "source": [
    "### Decision Tree\n",
    "One of the most model simplistic model for this type of classification is simply a decision tree."
   ]
  },
  {
   "cell_type": "code",
   "execution_count": null,
   "metadata": {},
   "outputs": [],
   "source": [
    "#import necessay libraries\n",
    "from sklearn.tree import DecisionTreeClassifier      # Decision Tree Classifier\n",
    "from sklearn.model_selection import train_test_split # Train/Test split\n",
    "from sklearn import metrics                          # Meterics\n",
    "\n",
    "#Input Variables\n",
    "X = shakespeare[['Play', 'Act', 'Scene', 'Line', 'PlayerLineNumber', 'NumWords']]\n",
    "y = shakespeare['Player']\n",
    "X_train, X_test, y_train, y_test = train_test_split(X, y, test_size=0.3, random_state=1)\n",
    "\n",
    "clf = DecisionTreeClassifier()\n",
    "\n",
    "# Train Decision Tree Classifer\n",
    "clf = clf.fit(X_train,y_train)\n",
    "#Predict the response for test dataset\n",
    "y_pred = clf.predict(X_test)\n",
    "#Evaluate model\n",
    "print(\"Decision Tree Classifier Accuracy:\",metrics.accuracy_score(y_test, y_pred))\n",
    "pickle.dump(clf, open(\"./models/decision_tree.p\", 'wb+'))"
   ]
  },
  {
   "cell_type": "markdown",
   "metadata": {},
   "source": [
    "### Random Forest\n",
    "Can you see the forest for the trees? If one tree was good then surely more is better."
   ]
  },
  {
   "cell_type": "code",
   "execution_count": null,
   "metadata": {},
   "outputs": [],
   "source": [
    "from sklearn.ensemble import RandomForestRegressor\n",
    "forest = RandomForestRegressor(n_estimators = 100, random_state = 1) #Pretty aribitrary number chosen\n",
    "forest.fit(X_train, y_train)\n",
    "y_pred = forest.predict(X_test)\n",
    "#Evaluate model\n",
    "print(\"Random Forest Classifier Accuracy:\",metrics.accuracy_score(y_test, y_pred))\n",
    "pickle.dump(clf, open(\"./models/decision_forest.p\", 'wb+'))"
   ]
  }
 ],
 "metadata": {
  "kernelspec": {
   "display_name": "Python 3",
   "language": "python",
   "name": "python3"
  },
  "language_info": {
   "codemirror_mode": {
    "name": "ipython",
    "version": 3
   },
   "file_extension": ".py",
   "mimetype": "text/x-python",
   "name": "python",
   "nbconvert_exporter": "python",
   "pygments_lexer": "ipython3",
   "version": "3.7.1"
  }
 },
 "nbformat": 4,
 "nbformat_minor": 2
}
