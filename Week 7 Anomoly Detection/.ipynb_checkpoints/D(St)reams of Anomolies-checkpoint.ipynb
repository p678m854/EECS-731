{
 "cells": [
  {
   "cell_type": "markdown",
   "metadata": {},
   "source": [
    "# D(St)reams of Anomolies\n",
    "## General Information\n",
    "Author: Patrick McNamee\n",
    "\n",
    "Date: 11/3/2019\n",
    "## Description\n",
    "Gathering AWS data from [Numenta Anomaly Benchmark](https://www.kaggle.com/boltzmannbrain/nab) to test some algorithms for anomaly detection.\n",
    "## Data Exploration\n",
    "First thing is to load the data in a pandas data frame"
   ]
  },
  {
   "cell_type": "code",
   "execution_count": 1,
   "metadata": {},
   "outputs": [
    {
     "data": {
      "text/html": [
       "<div>\n",
       "<style scoped>\n",
       "    .dataframe tbody tr th:only-of-type {\n",
       "        vertical-align: middle;\n",
       "    }\n",
       "\n",
       "    .dataframe tbody tr th {\n",
       "        vertical-align: top;\n",
       "    }\n",
       "\n",
       "    .dataframe thead th {\n",
       "        text-align: right;\n",
       "    }\n",
       "</style>\n",
       "<table border=\"1\" class=\"dataframe\">\n",
       "  <thead>\n",
       "    <tr style=\"text-align: right;\">\n",
       "      <th></th>\n",
       "      <th>timestamp</th>\n",
       "      <th>cpu1</th>\n",
       "      <th>timestamp</th>\n",
       "      <th>cpu2</th>\n",
       "      <th>timestamp</th>\n",
       "      <th>cpu3</th>\n",
       "      <th>timestamp</th>\n",
       "      <th>cpu4</th>\n",
       "      <th>timestamp</th>\n",
       "      <th>cpu5</th>\n",
       "      <th>timestamp</th>\n",
       "      <th>cpu6</th>\n",
       "      <th>timestamp</th>\n",
       "      <th>cpu7</th>\n",
       "      <th>timestamp</th>\n",
       "      <th>cpu8</th>\n",
       "    </tr>\n",
       "  </thead>\n",
       "  <tbody>\n",
       "    <tr>\n",
       "      <th>0</th>\n",
       "      <td>2014-02-14 14:27:00</td>\n",
       "      <td>51.846</td>\n",
       "      <td>2014-02-14 14:30:00</td>\n",
       "      <td>0.132</td>\n",
       "      <td>2014-02-14 14:30:00</td>\n",
       "      <td>1.732</td>\n",
       "      <td>2014-04-02 14:25:00</td>\n",
       "      <td>0.068</td>\n",
       "      <td>2014-04-10 00:04:00</td>\n",
       "      <td>91.958</td>\n",
       "      <td>2014-04-02 14:29:00</td>\n",
       "      <td>42.652</td>\n",
       "      <td>2014-04-02 14:29:00</td>\n",
       "      <td>0.066</td>\n",
       "      <td>2014-02-14 14:27:00</td>\n",
       "      <td>2.296</td>\n",
       "    </tr>\n",
       "    <tr>\n",
       "      <th>1</th>\n",
       "      <td>2014-02-14 14:32:00</td>\n",
       "      <td>44.508</td>\n",
       "      <td>2014-02-14 14:35:00</td>\n",
       "      <td>0.134</td>\n",
       "      <td>2014-02-14 14:35:00</td>\n",
       "      <td>1.732</td>\n",
       "      <td>2014-04-02 14:30:00</td>\n",
       "      <td>0.102</td>\n",
       "      <td>2014-04-10 00:09:00</td>\n",
       "      <td>94.798</td>\n",
       "      <td>2014-04-02 14:34:00</td>\n",
       "      <td>41.362</td>\n",
       "      <td>2014-04-02 14:34:00</td>\n",
       "      <td>0.066</td>\n",
       "      <td>2014-02-14 14:32:00</td>\n",
       "      <td>2.144</td>\n",
       "    </tr>\n",
       "    <tr>\n",
       "      <th>2</th>\n",
       "      <td>2014-02-14 14:37:00</td>\n",
       "      <td>41.244</td>\n",
       "      <td>2014-02-14 14:40:00</td>\n",
       "      <td>0.134</td>\n",
       "      <td>2014-02-14 14:40:00</td>\n",
       "      <td>1.960</td>\n",
       "      <td>2014-04-02 14:35:00</td>\n",
       "      <td>0.100</td>\n",
       "      <td>2014-04-10 00:14:00</td>\n",
       "      <td>92.208</td>\n",
       "      <td>2014-04-02 14:39:00</td>\n",
       "      <td>43.408</td>\n",
       "      <td>2014-04-02 14:39:00</td>\n",
       "      <td>0.068</td>\n",
       "      <td>2014-02-14 14:37:00</td>\n",
       "      <td>2.274</td>\n",
       "    </tr>\n",
       "    <tr>\n",
       "      <th>3</th>\n",
       "      <td>2014-02-14 14:42:00</td>\n",
       "      <td>48.568</td>\n",
       "      <td>2014-02-14 14:45:00</td>\n",
       "      <td>0.134</td>\n",
       "      <td>2014-02-14 14:45:00</td>\n",
       "      <td>1.732</td>\n",
       "      <td>2014-04-02 14:40:00</td>\n",
       "      <td>0.098</td>\n",
       "      <td>2014-04-10 00:19:00</td>\n",
       "      <td>93.722</td>\n",
       "      <td>2014-04-02 14:44:00</td>\n",
       "      <td>40.262</td>\n",
       "      <td>2014-04-02 14:44:00</td>\n",
       "      <td>0.134</td>\n",
       "      <td>2014-02-14 14:42:00</td>\n",
       "      <td>2.066</td>\n",
       "    </tr>\n",
       "    <tr>\n",
       "      <th>4</th>\n",
       "      <td>2014-02-14 14:47:00</td>\n",
       "      <td>46.714</td>\n",
       "      <td>2014-02-14 14:50:00</td>\n",
       "      <td>0.134</td>\n",
       "      <td>2014-02-14 14:50:00</td>\n",
       "      <td>1.706</td>\n",
       "      <td>2014-04-02 14:45:00</td>\n",
       "      <td>0.102</td>\n",
       "      <td>2014-04-10 00:24:00</td>\n",
       "      <td>93.042</td>\n",
       "      <td>2014-04-02 14:49:00</td>\n",
       "      <td>40.328</td>\n",
       "      <td>2014-04-02 14:49:00</td>\n",
       "      <td>0.066</td>\n",
       "      <td>2014-02-14 14:47:00</td>\n",
       "      <td>2.350</td>\n",
       "    </tr>\n",
       "  </tbody>\n",
       "</table>\n",
       "</div>"
      ],
      "text/plain": [
       "             timestamp    cpu1            timestamp   cpu2  \\\n",
       "0  2014-02-14 14:27:00  51.846  2014-02-14 14:30:00  0.132   \n",
       "1  2014-02-14 14:32:00  44.508  2014-02-14 14:35:00  0.134   \n",
       "2  2014-02-14 14:37:00  41.244  2014-02-14 14:40:00  0.134   \n",
       "3  2014-02-14 14:42:00  48.568  2014-02-14 14:45:00  0.134   \n",
       "4  2014-02-14 14:47:00  46.714  2014-02-14 14:50:00  0.134   \n",
       "\n",
       "             timestamp   cpu3            timestamp   cpu4  \\\n",
       "0  2014-02-14 14:30:00  1.732  2014-04-02 14:25:00  0.068   \n",
       "1  2014-02-14 14:35:00  1.732  2014-04-02 14:30:00  0.102   \n",
       "2  2014-02-14 14:40:00  1.960  2014-04-02 14:35:00  0.100   \n",
       "3  2014-02-14 14:45:00  1.732  2014-04-02 14:40:00  0.098   \n",
       "4  2014-02-14 14:50:00  1.706  2014-04-02 14:45:00  0.102   \n",
       "\n",
       "             timestamp    cpu5            timestamp    cpu6  \\\n",
       "0  2014-04-10 00:04:00  91.958  2014-04-02 14:29:00  42.652   \n",
       "1  2014-04-10 00:09:00  94.798  2014-04-02 14:34:00  41.362   \n",
       "2  2014-04-10 00:14:00  92.208  2014-04-02 14:39:00  43.408   \n",
       "3  2014-04-10 00:19:00  93.722  2014-04-02 14:44:00  40.262   \n",
       "4  2014-04-10 00:24:00  93.042  2014-04-02 14:49:00  40.328   \n",
       "\n",
       "             timestamp   cpu7            timestamp   cpu8  \n",
       "0  2014-04-02 14:29:00  0.066  2014-02-14 14:27:00  2.296  \n",
       "1  2014-04-02 14:34:00  0.066  2014-02-14 14:32:00  2.144  \n",
       "2  2014-04-02 14:39:00  0.068  2014-02-14 14:37:00  2.274  \n",
       "3  2014-04-02 14:44:00  0.134  2014-02-14 14:42:00  2.066  \n",
       "4  2014-04-02 14:49:00  0.066  2014-02-14 14:47:00  2.350  "
      ]
     },
     "execution_count": 1,
     "metadata": {},
     "output_type": "execute_result"
    }
   ],
   "source": [
    "import pandas as pd\n",
    "\n",
    "#Reading in all the ec2 cpu utilization files\n",
    "cpu1 = pd.read_csv(r'./data/realAWSCloudwatch/realAWSCloudwatch/ec2_cpu_utilization_5f5533.csv')\n",
    "cpu2 = pd.read_csv(r'./data/realAWSCloudwatch/realAWSCloudwatch/ec2_cpu_utilization_24ae8d.csv')\n",
    "cpu3 = pd.read_csv(r'./data/realAWSCloudwatch/realAWSCloudwatch/ec2_cpu_utilization_53ea38.csv')\n",
    "cpu4 = pd.read_csv(r'./data/realAWSCloudwatch/realAWSCloudwatch/ec2_cpu_utilization_77c1ca.csv')\n",
    "cpu5 = pd.read_csv(r'./data/realAWSCloudwatch/realAWSCloudwatch/ec2_cpu_utilization_825cc2.csv')\n",
    "cpu6 = pd.read_csv(r'./data/realAWSCloudwatch/realAWSCloudwatch/ec2_cpu_utilization_ac20cd.csv')\n",
    "cpu7 = pd.read_csv(r'./data/realAWSCloudwatch/realAWSCloudwatch/ec2_cpu_utilization_c6585a.csv')\n",
    "cpu8 = pd.read_csv(r'./data/realAWSCloudwatch/realAWSCloudwatch/ec2_cpu_utilization_fe7f93.csv')\n",
    "\n",
    "\"\"\"\n",
    "#convert index\n",
    "for cpu in [cpu2, cpu3, cpu4, cpu5, cpu6, cpu7, cpu8]:\n",
    "    newindex = cpu1.index.union(cpu.index)\n",
    "    cpu = cpu1.reindex(newindex)\n",
    "for cpu in [cpu2, cpu3, cpu4, cpu5, cpu6, cpu7, cpu8]:\n",
    "    cpu.reindex(cpu1.index)\n",
    "\"\"\"\n",
    "for i, cpu in enumerate([cpu1, cpu2, cpu3, cpu4, cpu5, cpu6, cpu7, cpu8],\n",
    "                       start=1):\n",
    "    cpu = cpu.set_index('timestamp')\n",
    "    cpu = cpu.rename(columns={'value': ('cpu' + str(i))}, inplace=True)\n",
    "\n",
    "#df = pd.concat([cpu1, cpu2, cpu3, cpu4, cpu5, cpu6, cpu7, cpu8],\n",
    " #             axis=1)\n",
    "cpu1 = cpu1.rename(columns={'value': 'cpu1'})\n",
    "cpu2 = cpu2.rename(columns={'value': 'cpu2'})\n",
    "cpu3 = cpu3.rename(columns={'value': 'cpu3'})\n",
    "cpu4 = cpu4.rename(columns={'value': 'cpu4'})\n",
    "cpu5 = cpu5.rename(columns={'value': 'cpu5'})\n",
    "cpu6 = cpu6.rename(columns={'value': 'cpu6'})\n",
    "cpu7 = cpu7.rename(columns={'value': 'cpu7'})\n",
    "cpu8 = cpu8.rename(columns={'value': 'cpu8'})\n",
    "\n",
    "df = pd.concat([cpu1, cpu2, cpu3, cpu4, cpu5, cpu6, cpu7, cpu8],\n",
    "             axis=1)\n",
    "df.head()"
   ]
  },
  {
   "cell_type": "markdown",
   "metadata": {},
   "source": [
    "Looking at an overall view of the cpu measurements, the CPU values are coming in pairs i.e. the logs are matching up. Below is the pairs of CPUs.\n",
    "\n",
    "* CPU1 and CPU8\n",
    "* CPU2 and CPU3\n",
    "* CPU6 and CPU7\n",
    "\n",
    "I'll only look at CPU2 and CPU3 since all the other CPU's are on different days and times. This will also simplify the synchronyzing the timestamps of the records."
   ]
  },
  {
   "cell_type": "code",
   "execution_count": 2,
   "metadata": {},
   "outputs": [
    {
     "data": {
      "text/html": [
       "<div>\n",
       "<style scoped>\n",
       "    .dataframe tbody tr th:only-of-type {\n",
       "        vertical-align: middle;\n",
       "    }\n",
       "\n",
       "    .dataframe tbody tr th {\n",
       "        vertical-align: top;\n",
       "    }\n",
       "\n",
       "    .dataframe thead th {\n",
       "        text-align: right;\n",
       "    }\n",
       "</style>\n",
       "<table border=\"1\" class=\"dataframe\">\n",
       "  <thead>\n",
       "    <tr style=\"text-align: right;\">\n",
       "      <th></th>\n",
       "      <th>timestamp</th>\n",
       "      <th>cpu2</th>\n",
       "      <th>cpu3</th>\n",
       "    </tr>\n",
       "  </thead>\n",
       "  <tbody>\n",
       "    <tr>\n",
       "      <th>0</th>\n",
       "      <td>2014-02-14 14:30:00</td>\n",
       "      <td>0.132</td>\n",
       "      <td>1.732</td>\n",
       "    </tr>\n",
       "    <tr>\n",
       "      <th>1</th>\n",
       "      <td>2014-02-14 14:35:00</td>\n",
       "      <td>0.134</td>\n",
       "      <td>1.732</td>\n",
       "    </tr>\n",
       "    <tr>\n",
       "      <th>2</th>\n",
       "      <td>2014-02-14 14:40:00</td>\n",
       "      <td>0.134</td>\n",
       "      <td>1.960</td>\n",
       "    </tr>\n",
       "    <tr>\n",
       "      <th>3</th>\n",
       "      <td>2014-02-14 14:45:00</td>\n",
       "      <td>0.134</td>\n",
       "      <td>1.732</td>\n",
       "    </tr>\n",
       "    <tr>\n",
       "      <th>4</th>\n",
       "      <td>2014-02-14 14:50:00</td>\n",
       "      <td>0.134</td>\n",
       "      <td>1.706</td>\n",
       "    </tr>\n",
       "  </tbody>\n",
       "</table>\n",
       "</div>"
      ],
      "text/plain": [
       "             timestamp   cpu2   cpu3\n",
       "0  2014-02-14 14:30:00  0.132  1.732\n",
       "1  2014-02-14 14:35:00  0.134  1.732\n",
       "2  2014-02-14 14:40:00  0.134  1.960\n",
       "3  2014-02-14 14:45:00  0.134  1.732\n",
       "4  2014-02-14 14:50:00  0.134  1.706"
      ]
     },
     "execution_count": 2,
     "metadata": {},
     "output_type": "execute_result"
    }
   ],
   "source": [
    "col = [1, 4, 6, 7, 8, 9, 10, 11, 12, 13, 14, 15]\n",
    "df.drop(df.columns[col], axis=1, inplace=True)\n",
    "df['timestamp'] = cpu2['timestamp']\n",
    "#df.set_index(cpu2['timestamp'])\n",
    "df = df[['timestamp', 'cpu2', 'cpu3']]\n",
    "df.head()"
   ]
  },
  {
   "cell_type": "markdown",
   "metadata": {},
   "source": [
    "Now that we have the CPU values we can plot them to visually determine if there appears to be any anomalies within the data."
   ]
  },
  {
   "cell_type": "code",
   "execution_count": 3,
   "metadata": {},
   "outputs": [
    {
     "data": {
      "image/png": "[encoded data removed]",
      "text/plain": [
       "<Figure size 432x288 with 1 Axes>"
      ]
     },
     "metadata": {
      "needs_background": "light"
     },
     "output_type": "display_data"
    }
   ],
   "source": [
    "import matplotlib.pyplot as plt\n",
    "%matplotlib inline\n",
    "\n",
    "plt.figure()\n",
    "plt.plot(df['cpu2'])\n",
    "plt.plot(df['cpu3'])\n",
    "plt.legend(['CPU2', 'CPU3'])\n",
    "\n",
    "plt.show()"
   ]
  },
  {
   "cell_type": "markdown",
   "metadata": {},
   "source": [
    "Just from looking at the plot, there appears to be anomalies that are manifesting as spikes in the data. It also appears that most of the time, the anomalies are happening periodically and in sync between the two data streams."
   ]
  },
  {
   "cell_type": "markdown",
   "metadata": {},
   "source": [
    "## Data Engineering\n",
    "Well there are only two columns of values so I will have to create some additional ones. Mostly it will be statistics based and I'll be looking for things moving averages or medians."
   ]
  },
  {
   "cell_type": "code",
   "execution_count": 4,
   "metadata": {},
   "outputs": [
    {
     "data": {
      "text/html": [
       "<div>\n",
       "<style scoped>\n",
       "    .dataframe tbody tr th:only-of-type {\n",
       "        vertical-align: middle;\n",
       "    }\n",
       "\n",
       "    .dataframe tbody tr th {\n",
       "        vertical-align: top;\n",
       "    }\n",
       "\n",
       "    .dataframe thead th {\n",
       "        text-align: right;\n",
       "    }\n",
       "</style>\n",
       "<table border=\"1\" class=\"dataframe\">\n",
       "  <thead>\n",
       "    <tr style=\"text-align: right;\">\n",
       "      <th></th>\n",
       "      <th>timestamp</th>\n",
       "      <th>cpu2</th>\n",
       "      <th>cpu3</th>\n",
       "      <th>cpu2_mav</th>\n",
       "      <th>cpu2_med</th>\n",
       "      <th>cpu3_mav</th>\n",
       "      <th>cpu3_med</th>\n",
       "    </tr>\n",
       "  </thead>\n",
       "  <tbody>\n",
       "    <tr>\n",
       "      <th>0</th>\n",
       "      <td>2014-02-14 14:30:00</td>\n",
       "      <td>0.132</td>\n",
       "      <td>1.732</td>\n",
       "      <td>0.2660</td>\n",
       "      <td>0.132</td>\n",
       "      <td>3.464000</td>\n",
       "      <td>1.732</td>\n",
       "    </tr>\n",
       "    <tr>\n",
       "      <th>1</th>\n",
       "      <td>2014-02-14 14:35:00</td>\n",
       "      <td>0.134</td>\n",
       "      <td>1.732</td>\n",
       "      <td>0.2000</td>\n",
       "      <td>0.133</td>\n",
       "      <td>2.712000</td>\n",
       "      <td>1.732</td>\n",
       "    </tr>\n",
       "    <tr>\n",
       "      <th>2</th>\n",
       "      <td>2014-02-14 14:40:00</td>\n",
       "      <td>0.134</td>\n",
       "      <td>1.960</td>\n",
       "      <td>0.1780</td>\n",
       "      <td>0.134</td>\n",
       "      <td>2.385333</td>\n",
       "      <td>1.732</td>\n",
       "    </tr>\n",
       "    <tr>\n",
       "      <th>3</th>\n",
       "      <td>2014-02-14 14:45:00</td>\n",
       "      <td>0.134</td>\n",
       "      <td>1.732</td>\n",
       "      <td>0.1670</td>\n",
       "      <td>0.134</td>\n",
       "      <td>2.215500</td>\n",
       "      <td>1.732</td>\n",
       "    </tr>\n",
       "    <tr>\n",
       "      <th>4</th>\n",
       "      <td>2014-02-14 14:50:00</td>\n",
       "      <td>0.134</td>\n",
       "      <td>1.706</td>\n",
       "      <td>0.1604</td>\n",
       "      <td>0.134</td>\n",
       "      <td>2.119200</td>\n",
       "      <td>1.732</td>\n",
       "    </tr>\n",
       "  </tbody>\n",
       "</table>\n",
       "</div>"
      ],
      "text/plain": [
       "             timestamp   cpu2   cpu3  cpu2_mav  cpu2_med  cpu3_mav  cpu3_med\n",
       "0  2014-02-14 14:30:00  0.132  1.732    0.2660     0.132  3.464000     1.732\n",
       "1  2014-02-14 14:35:00  0.134  1.732    0.2000     0.133  2.712000     1.732\n",
       "2  2014-02-14 14:40:00  0.134  1.960    0.1780     0.134  2.385333     1.732\n",
       "3  2014-02-14 14:45:00  0.134  1.732    0.1670     0.134  2.215500     1.732\n",
       "4  2014-02-14 14:50:00  0.134  1.706    0.1604     0.134  2.119200     1.732"
      ]
     },
     "execution_count": 4,
     "metadata": {},
     "output_type": "execute_result"
    }
   ],
   "source": [
    "import statistics\n",
    "\n",
    "n_average = 40\n",
    "\n",
    "#first portion (building up average)\n",
    "for i in range(n_average):\n",
    "    df.loc[df.index[i], 'cpu2_mav'] = sum(df.loc[:(i+1), 'cpu2'])/(i+1)\n",
    "    df.loc[df.index[i], 'cpu2_med'] = statistics.median(df.loc[0:i, 'cpu2'])\n",
    "    df.loc[df.index[i], 'cpu3_mav'] = sum(df.loc[:(i+1), 'cpu3'])/(i+1)\n",
    "    df.loc[df.index[i], 'cpu3_med'] = statistics.median(df.loc[0:i, 'cpu3'])\n",
    "    \n",
    "#last portion (maintaining average)\n",
    "for i in range(df.index[-1] - n_average + 1):\n",
    "    df.loc[df.index[i+n_average], 'cpu2_mav'] = sum(df.loc[i:(i+n_average), 'cpu2'])/n_average\n",
    "    df.loc[df.index[i+n_average], 'cpu2_med'] = statistics.median(df.loc[i:(i+n_average), 'cpu2'])\n",
    "    df.loc[df.index[i+n_average], 'cpu3_mav'] = sum(df.loc[i:(i+n_average), 'cpu3'])/n_average\n",
    "    df.loc[df.index[i+n_average], 'cpu3_med'] = statistics.median(df.loc[i:(i+n_average), 'cpu3'])\n",
    "\n",
    "df.head()"
   ]
  },
  {
   "cell_type": "code",
   "execution_count": 5,
   "metadata": {},
   "outputs": [
    {
     "data": {
      "image/png": "[encoded data removed]",
      "text/plain": [
       "<Figure size 432x288 with 1 Axes>"
      ]
     },
     "metadata": {
      "needs_background": "light"
     },
     "output_type": "display_data"
    }
   ],
   "source": [
    "plt.figure()\n",
    "plt.plot(df['cpu3'])\n",
    "plt.plot(df['cpu3_mav'])\n",
    "plt.show()"
   ]
  },
  {
   "cell_type": "markdown",
   "metadata": {},
   "source": [
    "## Model Building\n",
    "\n",
    "So there are three methodology that I am going to try for this data set which are listed below. CPU3 will have Z-score and IQR applied while CPU2 will only have the thresholding done to it.\n",
    "\n",
    "1. Z-score rejection (moving and stationary)\n",
    "2. Thresholding\n",
    "3. IQR (moving and stationary)\n",
    "\n",
    "All the above methods are fairly statistical in nature. Z-score is fairly common with experimentalists and is often used with Chauvenet's Criterian test although I will only use a 2-sigma rejection (95 percentile). Thresholding is a simplistic approach that rejects everythin above (or below) a threshold value. IQR uses the the first and third quartiles to determine a rejection band and is based on the median value.\n",
    "\n",
    "The use a moving versus stationary is simply for realtime versus post identification of anomolies. Since I am using moving averages and medians this should work well.\n",
    "\n",
    "### Z-Score Rejection"
   ]
  },
  {
   "cell_type": "code",
   "execution_count": 19,
   "metadata": {},
   "outputs": [
    {
     "data": {
      "image/png": "[encoded data removed]",
      "text/plain": [
       "<Figure size 432x288 with 1 Axes>"
      ]
     },
     "metadata": {
      "needs_background": "light"
     },
     "output_type": "display_data"
    }
   ],
   "source": [
    "import numpy as np\n",
    "import warnings\n",
    "warnings.filterwarnings('ignore')\n",
    "\n",
    "#moving average\n",
    "for i in range(df.index[-1]):\n",
    "    #Retrieve data\n",
    "    if i < n_average:\n",
    "        data = df.loc[:(i+1), 'cpu3']\n",
    "    else:\n",
    "        data = df.loc[i-n_average:(i+1), 'cpu3']\n",
    "\n",
    "    #Square error\n",
    "    std = np.sum(np.dot(data - df.loc[i,'cpu3_mav'],\\\n",
    "                        data - df.loc[i,'cpu3_mav']))\n",
    "    \n",
    "    #Average\n",
    "    if i < n_average:\n",
    "        std = std/(i)#Biased estimator\n",
    "    else:\n",
    "        std = std/(n_average-1)#unbiased estimator\n",
    "    \n",
    "    #Find square root\n",
    "    std = np.sqrt(std)\n",
    "    \n",
    "    if np.abs(df.loc[i, 'cpu3'] - df.loc[i, 'cpu3_mav'])/std >= 3:\n",
    "        df.loc[i,'zscore_m'] = True\n",
    "    else:\n",
    "        df.loc[i,'zscore_m'] = False\n",
    "        \n",
    "plt.figure()\n",
    "outliers = plt.plot(df.index.where(df['zscore_m']),\\\n",
    "                    df.loc[:,'cpu3'].where(df['zscore_m'] == True),\\\n",
    "                    '*', color='red', label=\"Anomolies\")\n",
    "regular = plt.plot(df.index.where(df['zscore_m'] == False),\\\n",
    "                   df.loc[:,'cpu3'].where(df['zscore_m'] == False),\\\n",
    "                   ',', markerfacecolor='b', label=\"Normal Data\")\n",
    "ax = plt.gca()\n",
    "ax.legend(bbox_to_anchor=(1.5, 1))\n",
    "plt.show()"
   ]
  },
  {
   "cell_type": "markdown",
   "metadata": {},
   "source": [
    "### Thresholding\n",
    "CPU 2 looks like a good candadite for thresholding simply because the nomial values are low and the anomolies are the high values."
   ]
  },
  {
   "cell_type": "code",
   "execution_count": 20,
   "metadata": {},
   "outputs": [
    {
     "data": {
      "image/png": "[encoded data removed]",
      "text/plain": [
       "<Figure size 432x288 with 1 Axes>"
      ]
     },
     "metadata": {
      "needs_background": "light"
     },
     "output_type": "display_data"
    }
   ],
   "source": [
    "threshold = 0.3\n",
    "\n",
    "plt.figure()\n",
    "outliers = plt.plot(df.index.where(df['cpu2']),\\\n",
    "                    df.loc[:,'cpu2'].where(df['cpu2'] > threshold),\\\n",
    "                    '*', color='red', label=\"Anomolies\")\n",
    "regular = plt.plot(df.index.where(df['cpu2'] <= threshold),\\\n",
    "                   df.loc[:,'cpu2'].where(df['cpu2'] <= threshold),\\\n",
    "                   ',', markerfacecolor='b', label=\"Normal Data\")\n",
    "ax = plt.gca()\n",
    "ax.legend(bbox_to_anchor=(1.5, 1))\n",
    "plt.show()"
   ]
  },
  {
   "cell_type": "markdown",
   "metadata": {},
   "source": [
    "### IQR\n",
    "\n",
    "IQR is a lot like Z-score except we are concerned with the median rather than the mean. Anomoly detection is based off the interquartile range which is used as a distance away from either Q1 or Q3 depending on if the value is below or above the median respectively."
   ]
  },
  {
   "cell_type": "code",
   "execution_count": 31,
   "metadata": {},
   "outputs": [
    {
     "data": {
      "image/png": "[encoded data removed]",
      "text/plain": [
       "<Figure size 432x288 with 1 Axes>"
      ]
     },
     "metadata": {
      "needs_background": "light"
     },
     "output_type": "display_data"
    }
   ],
   "source": [
    "#moving IQR\n",
    "for i in range(df.index[-1]):\n",
    "    #Retrieve data\n",
    "    if i < n_average:\n",
    "        data = df.loc[:(i+1), 'cpu3']\n",
    "    else:\n",
    "        data = df.loc[i-n_average:(i+1), 'cpu3']\n",
    "\n",
    "    #Divide data up\n",
    "    upper = data.where(data > df.loc[i, 'cpu3_med']).dropna()\n",
    "    lower = data.where(data < df.loc[i, 'cpu3_med']).dropna()\n",
    "    \n",
    "    #Find Q1, Q3, and IQR\n",
    "    if lower.size != 0:\n",
    "        Q1 = statistics.median(lower)\n",
    "    else:\n",
    "        Q1 = df.loc[i, 'cpu3_med']\n",
    "    if upper.size != 0:\n",
    "        Q3 = statistics.median(upper)\n",
    "    else:\n",
    "        Q3 = df.loc[i, 'cpu3_med']\n",
    "        \n",
    "    IQR = Q3 - Q1\n",
    "    \n",
    "    if df.loc[i, 'cpu3'] > Q3 + 1.5*IQR:\n",
    "        df.loc[i,'iqr_m'] = True\n",
    "    elif df.loc[i, 'cpu3'] < Q1 - 1.5*IQR:\n",
    "        df.loc[i,'iqr_m'] = True\n",
    "    else:\n",
    "        df.loc[i,'iqr_m'] = False\n",
    "        \n",
    "plt.figure()\n",
    "outliers = plt.plot(df.index.where(df['iqr_m']),\\\n",
    "                    df.loc[:,'cpu3'].where(df['iqr_m'] == True),\\\n",
    "                    '*', color='red', label=\"Anomolies\")\n",
    "regular = plt.plot(df.index.where(df['iqr_m'] == False),\\\n",
    "                   df.loc[:,'cpu3'].where(df['iqr_m'] == False),\\\n",
    "                   ',', markerfacecolor='b', label=\"Normal Data\")\n",
    "ax = plt.gca()\n",
    "ax.legend(bbox_to_anchor=(1.5, 1))\n",
    "plt.show()"
   ]
  },
  {
   "cell_type": "markdown",
   "metadata": {},
   "source": [
    "## Conclusions\n",
    "This notebook looked at a couple of techniques to find anomolies in CPU usage levels. Thresholding was used on a mostly idle CPU and seem to give good results while IQR and Z-Score were used on a more nominally used CPU. IQR and Z-Score were both using moving metrics to reavaluate at every index. Both Z-Score and IQR were detecting the high anomolies but IQR seemed to do a better job with the non-Gaussian nature of the values that is appearent by looking at the distribution of normal values in the plots. "
   ]
  },
  {
   "cell_type": "code",
   "execution_count": null,
   "metadata": {},
   "outputs": [],
   "source": []
  }
 ],
 "metadata": {
  "kernelspec": {
   "display_name": "Python 3",
   "language": "python",
   "name": "python3"
  },
  "language_info": {
   "codemirror_mode": {
    "name": "ipython",
    "version": 3
   },
   "file_extension": ".py",
   "mimetype": "text/x-python",
   "name": "python",
   "nbconvert_exporter": "python",
   "pygments_lexer": "ipython3",
   "version": "3.7.1"
  }
 },
 "nbformat": 4,
 "nbformat_minor": 2
}
